{
 "cells": [
  {
   "cell_type": "markdown",
   "metadata": {},
   "source": [
    "# 01 Quick Tour\n",
    "**本节目标**：\n",
    "\n",
    "帮助读者快速掌握如何加载并使用模型推理\n",
    "\n",
    "**备注**：\n",
    "\n",
    "1. 本章节部分来自于Hugging Face的[官方文档](https://huggingface.co/docs/transformers/quicktour)以及[Generation with LLMS](https://huggingface.co/docs/transformers/llm_tutorial)，如果有进一步的需求可以参阅源文档以获取更加准确的知识。\n",
    "\n",
    "2. 由于本教程关注LLM，因此会忽略官方文档Quick Tour中不相关的部分，并且本章节也包含一些简略的有关如何安装相关依赖的教程。\n",
    "\n",
    "3. 本教程使用pytorch。"
   ]
  },
  {
   "cell_type": "markdown",
   "metadata": {},
   "source": [
    "## 环境配置以及安装"
   ]
  },
  {
   "cell_type": "markdown",
   "metadata": {},
   "source": [
    "在本部分中，我十分推荐使用conda的虚拟环境进行学习\n",
    "\n",
    "*Terminal*\n",
    "\n",
    "**新建环境**\n",
    "\n",
    "`conda create --name LLM_Tutorial python=3.11`\n",
    "\n",
    "**切换虚拟环境**\n",
    "\n",
    "`conda activate LLM_Tutorial`\n",
    "\n",
    "**安装ipykernel**\n",
    "\n",
    "`conda install ipykernel`"
   ]
  },
  {
   "cell_type": "code",
   "execution_count": 3,
   "metadata": {},
   "outputs": [
    {
     "name": "stdout",
     "output_type": "stream",
     "text": [
      "Requirement already satisfied: transformers in /Users/zhouzhenhong/anaconda3/envs/LLM_Toturial/lib/python3.11/site-packages (4.36.2)\n",
      "Requirement already satisfied: datasets in /Users/zhouzhenhong/anaconda3/envs/LLM_Toturial/lib/python3.11/site-packages (2.16.1)\n",
      "Requirement already satisfied: filelock in /Users/zhouzhenhong/anaconda3/envs/LLM_Toturial/lib/python3.11/site-packages (from transformers) (3.13.1)\n",
      "Requirement already satisfied: huggingface-hub<1.0,>=0.19.3 in /Users/zhouzhenhong/anaconda3/envs/LLM_Toturial/lib/python3.11/site-packages (from transformers) (0.20.1)\n",
      "Requirement already satisfied: numpy>=1.17 in /Users/zhouzhenhong/anaconda3/envs/LLM_Toturial/lib/python3.11/site-packages (from transformers) (1.26.3)\n",
      "Requirement already satisfied: packaging>=20.0 in /Users/zhouzhenhong/anaconda3/envs/LLM_Toturial/lib/python3.11/site-packages (from transformers) (23.1)\n",
      "Requirement already satisfied: pyyaml>=5.1 in /Users/zhouzhenhong/anaconda3/envs/LLM_Toturial/lib/python3.11/site-packages (from transformers) (6.0.1)\n",
      "Requirement already satisfied: regex!=2019.12.17 in /Users/zhouzhenhong/anaconda3/envs/LLM_Toturial/lib/python3.11/site-packages (from transformers) (2023.12.25)\n",
      "Requirement already satisfied: requests in /Users/zhouzhenhong/anaconda3/envs/LLM_Toturial/lib/python3.11/site-packages (from transformers) (2.31.0)\n",
      "Requirement already satisfied: tokenizers<0.19,>=0.14 in /Users/zhouzhenhong/anaconda3/envs/LLM_Toturial/lib/python3.11/site-packages (from transformers) (0.15.0)\n",
      "Requirement already satisfied: safetensors>=0.3.1 in /Users/zhouzhenhong/anaconda3/envs/LLM_Toturial/lib/python3.11/site-packages (from transformers) (0.4.1)\n",
      "Requirement already satisfied: tqdm>=4.27 in /Users/zhouzhenhong/anaconda3/envs/LLM_Toturial/lib/python3.11/site-packages (from transformers) (4.66.1)\n",
      "Requirement already satisfied: pyarrow>=8.0.0 in /Users/zhouzhenhong/anaconda3/envs/LLM_Toturial/lib/python3.11/site-packages (from datasets) (14.0.2)\n",
      "Requirement already satisfied: pyarrow-hotfix in /Users/zhouzhenhong/anaconda3/envs/LLM_Toturial/lib/python3.11/site-packages (from datasets) (0.6)\n",
      "Requirement already satisfied: dill<0.3.8,>=0.3.0 in /Users/zhouzhenhong/anaconda3/envs/LLM_Toturial/lib/python3.11/site-packages (from datasets) (0.3.7)\n",
      "Requirement already satisfied: pandas in /Users/zhouzhenhong/anaconda3/envs/LLM_Toturial/lib/python3.11/site-packages (from datasets) (2.1.4)\n",
      "Requirement already satisfied: xxhash in /Users/zhouzhenhong/anaconda3/envs/LLM_Toturial/lib/python3.11/site-packages (from datasets) (3.4.1)\n",
      "Requirement already satisfied: multiprocess in /Users/zhouzhenhong/anaconda3/envs/LLM_Toturial/lib/python3.11/site-packages (from datasets) (0.70.15)\n",
      "Requirement already satisfied: fsspec<=2023.10.0,>=2023.1.0 in /Users/zhouzhenhong/anaconda3/envs/LLM_Toturial/lib/python3.11/site-packages (from fsspec[http]<=2023.10.0,>=2023.1.0->datasets) (2023.10.0)\n",
      "Requirement already satisfied: aiohttp in /Users/zhouzhenhong/anaconda3/envs/LLM_Toturial/lib/python3.11/site-packages (from datasets) (3.9.1)\n",
      "Requirement already satisfied: attrs>=17.3.0 in /Users/zhouzhenhong/anaconda3/envs/LLM_Toturial/lib/python3.11/site-packages (from aiohttp->datasets) (23.2.0)\n",
      "Requirement already satisfied: multidict<7.0,>=4.5 in /Users/zhouzhenhong/anaconda3/envs/LLM_Toturial/lib/python3.11/site-packages (from aiohttp->datasets) (6.0.4)\n",
      "Requirement already satisfied: yarl<2.0,>=1.0 in /Users/zhouzhenhong/anaconda3/envs/LLM_Toturial/lib/python3.11/site-packages (from aiohttp->datasets) (1.9.4)\n",
      "Requirement already satisfied: frozenlist>=1.1.1 in /Users/zhouzhenhong/anaconda3/envs/LLM_Toturial/lib/python3.11/site-packages (from aiohttp->datasets) (1.4.1)\n",
      "Requirement already satisfied: aiosignal>=1.1.2 in /Users/zhouzhenhong/anaconda3/envs/LLM_Toturial/lib/python3.11/site-packages (from aiohttp->datasets) (1.3.1)\n",
      "Requirement already satisfied: typing-extensions>=3.7.4.3 in /Users/zhouzhenhong/anaconda3/envs/LLM_Toturial/lib/python3.11/site-packages (from huggingface-hub<1.0,>=0.19.3->transformers) (4.9.0)\n",
      "Requirement already satisfied: charset-normalizer<4,>=2 in /Users/zhouzhenhong/anaconda3/envs/LLM_Toturial/lib/python3.11/site-packages (from requests->transformers) (3.3.2)\n",
      "Requirement already satisfied: idna<4,>=2.5 in /Users/zhouzhenhong/anaconda3/envs/LLM_Toturial/lib/python3.11/site-packages (from requests->transformers) (3.6)\n",
      "Requirement already satisfied: urllib3<3,>=1.21.1 in /Users/zhouzhenhong/anaconda3/envs/LLM_Toturial/lib/python3.11/site-packages (from requests->transformers) (2.1.0)\n",
      "Requirement already satisfied: certifi>=2017.4.17 in /Users/zhouzhenhong/anaconda3/envs/LLM_Toturial/lib/python3.11/site-packages (from requests->transformers) (2023.11.17)\n",
      "Requirement already satisfied: python-dateutil>=2.8.2 in /Users/zhouzhenhong/anaconda3/envs/LLM_Toturial/lib/python3.11/site-packages (from pandas->datasets) (2.8.2)\n",
      "Requirement already satisfied: pytz>=2020.1 in /Users/zhouzhenhong/anaconda3/envs/LLM_Toturial/lib/python3.11/site-packages (from pandas->datasets) (2023.3.post1)\n",
      "Requirement already satisfied: tzdata>=2022.1 in /Users/zhouzhenhong/anaconda3/envs/LLM_Toturial/lib/python3.11/site-packages (from pandas->datasets) (2023.4)\n",
      "Requirement already satisfied: six>=1.5 in /Users/zhouzhenhong/anaconda3/envs/LLM_Toturial/lib/python3.11/site-packages (from python-dateutil>=2.8.2->pandas->datasets) (1.16.0)\n"
     ]
    }
   ],
   "source": [
    "!pip install transformers datasets\n",
    "# 安装transformers以及datasets\n",
    "# 如果你的源存在问题，无法直接安装，请按照教程切换源\n",
    "# 临时方法 \n",
    "# conda/pip install your_lib -i https://pypi.tuna.tsinghua.edu.cn/simple  清华源\n",
    "# conda/pip install your_lib -i http://mirrors.aliyun.com/pypi/simple --trusted-host mirrors.aliyun.com  阿里源\n",
    "# 配置方法请按你现在的环境进行教程搜索,这里不过多赘述"
   ]
  },
  {
   "cell_type": "code",
   "execution_count": 6,
   "metadata": {},
   "outputs": [
    {
     "name": "stdout",
     "output_type": "stream",
     "text": [
      "Collecting torch\n",
      "  Downloading torch-2.1.2-cp311-none-macosx_11_0_arm64.whl.metadata (25 kB)\n",
      "Collecting torchvision\n",
      "  Downloading torchvision-0.16.2-cp311-cp311-macosx_11_0_arm64.whl.metadata (6.6 kB)\n",
      "Collecting torchaudio\n",
      "  Downloading torchaudio-2.1.2-cp311-cp311-macosx_11_0_arm64.whl.metadata (6.4 kB)\n",
      "Requirement already satisfied: filelock in /Users/zhouzhenhong/anaconda3/envs/LLM_Toturial/lib/python3.11/site-packages (from torch) (3.13.1)\n",
      "Requirement already satisfied: typing-extensions in /Users/zhouzhenhong/anaconda3/envs/LLM_Toturial/lib/python3.11/site-packages (from torch) (4.9.0)\n",
      "Collecting sympy (from torch)\n",
      "  Using cached sympy-1.12-py3-none-any.whl (5.7 MB)\n",
      "Collecting networkx (from torch)\n",
      "  Using cached networkx-3.2.1-py3-none-any.whl.metadata (5.2 kB)\n",
      "Collecting jinja2 (from torch)\n",
      "  Using cached Jinja2-3.1.2-py3-none-any.whl (133 kB)\n",
      "Requirement already satisfied: fsspec in /Users/zhouzhenhong/anaconda3/envs/LLM_Toturial/lib/python3.11/site-packages (from torch) (2023.10.0)\n",
      "Requirement already satisfied: numpy in /Users/zhouzhenhong/anaconda3/envs/LLM_Toturial/lib/python3.11/site-packages (from torchvision) (1.26.3)\n",
      "Requirement already satisfied: requests in /Users/zhouzhenhong/anaconda3/envs/LLM_Toturial/lib/python3.11/site-packages (from torchvision) (2.31.0)\n",
      "Collecting pillow!=8.3.*,>=5.3.0 (from torchvision)\n",
      "  Downloading pillow-10.2.0-cp311-cp311-macosx_11_0_arm64.whl.metadata (9.7 kB)\n",
      "Collecting MarkupSafe>=2.0 (from jinja2->torch)\n",
      "  Using cached MarkupSafe-2.1.3-cp311-cp311-macosx_10_9_universal2.whl.metadata (3.0 kB)\n",
      "Requirement already satisfied: charset-normalizer<4,>=2 in /Users/zhouzhenhong/anaconda3/envs/LLM_Toturial/lib/python3.11/site-packages (from requests->torchvision) (3.3.2)\n",
      "Requirement already satisfied: idna<4,>=2.5 in /Users/zhouzhenhong/anaconda3/envs/LLM_Toturial/lib/python3.11/site-packages (from requests->torchvision) (3.6)\n",
      "Requirement already satisfied: urllib3<3,>=1.21.1 in /Users/zhouzhenhong/anaconda3/envs/LLM_Toturial/lib/python3.11/site-packages (from requests->torchvision) (2.1.0)\n",
      "Requirement already satisfied: certifi>=2017.4.17 in /Users/zhouzhenhong/anaconda3/envs/LLM_Toturial/lib/python3.11/site-packages (from requests->torchvision) (2023.11.17)\n",
      "Collecting mpmath>=0.19 (from sympy->torch)\n",
      "  Using cached mpmath-1.3.0-py3-none-any.whl (536 kB)\n",
      "Downloading torch-2.1.2-cp311-none-macosx_11_0_arm64.whl (59.6 MB)\n",
      "\u001b[2K   \u001b[90m━━━━━━━━━━━━━━━━━━━━━━━━━━━━━━━━━━━━━━━━\u001b[0m \u001b[32m59.6/59.6 MB\u001b[0m \u001b[31m3.5 MB/s\u001b[0m eta \u001b[36m0:00:00\u001b[0m00:01\u001b[0m00:01\u001b[0mm\n",
      "\u001b[?25hDownloading torchvision-0.16.2-cp311-cp311-macosx_11_0_arm64.whl (1.5 MB)\n",
      "\u001b[2K   \u001b[90m━━━━━━━━━━━━━━━━━━━━━━━━━━━━━━━━━━━━━━━━\u001b[0m \u001b[32m1.5/1.5 MB\u001b[0m \u001b[31m1.9 MB/s\u001b[0m eta \u001b[36m0:00:00\u001b[0ma \u001b[36m0:00:01\u001b[0m0m\n",
      "\u001b[?25hDownloading torchaudio-2.1.2-cp311-cp311-macosx_11_0_arm64.whl (1.7 MB)\n",
      "\u001b[2K   \u001b[90m━━━━━━━━━━━━━━━━━━━━━━━━━━━━━━━━━━━━━━━━\u001b[0m \u001b[32m1.7/1.7 MB\u001b[0m \u001b[31m5.4 MB/s\u001b[0m eta \u001b[36m0:00:00\u001b[0ma \u001b[36m0:00:01\u001b[0m\n",
      "\u001b[?25hDownloading pillow-10.2.0-cp311-cp311-macosx_11_0_arm64.whl (3.3 MB)\n",
      "\u001b[2K   \u001b[90m━━━━━━━━━━━━━━━━━━━━━━━━━━━━━━━━━━━━━━━━\u001b[0m \u001b[32m3.3/3.3 MB\u001b[0m \u001b[31m4.1 MB/s\u001b[0m eta \u001b[36m0:00:00\u001b[0m00:01\u001b[0m00:01\u001b[0m\n",
      "\u001b[?25hUsing cached networkx-3.2.1-py3-none-any.whl (1.6 MB)\n",
      "Using cached MarkupSafe-2.1.3-cp311-cp311-macosx_10_9_universal2.whl (17 kB)\n",
      "Installing collected packages: mpmath, sympy, pillow, networkx, MarkupSafe, jinja2, torch, torchvision, torchaudio\n",
      "Successfully installed MarkupSafe-2.1.3 jinja2-3.1.2 mpmath-1.3.0 networkx-3.2.1 pillow-10.2.0 sympy-1.12 torch-2.1.2 torchaudio-2.1.2 torchvision-0.16.2\n"
     ]
    }
   ],
   "source": [
    "!pip3 install torch torchvision torchaudio\n",
    "# 注意，此处直接安装torch并不可行，请访问 https://pytorch.org/ 根据自己环境的版本获取相应的pytorch安装命令进行安装"
   ]
  },
  {
   "cell_type": "markdown",
   "metadata": {},
   "source": [
    "## 示例\n",
    "<img src=\"./src/pytorch.png\" alt=\"pytorch\" width=\"1680\"/>\n",
    "\n",
    "例如我正在Mac上使用pip安装Python的Default版本，因此torch官方为我提供的命令是`pip3 install torch torchvision torchaudio`，在相应的开发机或本地上会有相应的命令。"
   ]
  },
  {
   "cell_type": "markdown",
   "metadata": {},
   "source": [
    "## 模型&数据集的下载\n",
    "\n",
    "由于一些原因，我们无法直接使用hugging face提供的类似于\n",
    "`model = AutoModelForCausalLM.from_pretrained(\"TinyLlama/TinyLlama-1.1B-Chat-v1.0\", device_map=\"auto\")`\n",
    "风格的代码直接获取hugging face上的模型，即使配置了系统代理也会因为不稳定导致下载途中断掉，因此我推荐我们使用*浏览器+VPN*的方式下载模型。\n",
    "\n",
    "可以在[Tiny LLAMA](https://huggingface.co/TinyLlama/TinyLlama-1.1B-Chat-v1.0/tree/main)处下载Tiny LLAMA的权重进行本教程的学习。\n",
    "\n",
    "在本教程前期会尽可能的使用Tiny LLAMA进行讲解，后续涉及到相应的内容的时候会根据需要更换模型。\n",
    "\n",
    "我们将下载好的模型存入`/model/Tiny-LLAMA`路径下"
   ]
  },
  {
   "cell_type": "code",
   "execution_count": 4,
   "metadata": {},
   "outputs": [],
   "source": [
    "from transformers import AutoModelForCausalLM\n",
    "import tqdm as notebook_tqdm\n",
    "\n",
    "model = AutoModelForCausalLM.from_pretrained(\n",
    "    \"../model/Tiny-LLAMA\"\n",
    ")\n",
    "# 加载模型到内存中"
   ]
  },
  {
   "cell_type": "markdown",
   "metadata": {},
   "source": [
    "<img src=\"./src/error.png\" alt=\"error\" width=\"1680\"/>\n",
    "\n",
    "出现上述报错的主要原因是路径设置不同，可以检查自己IDE的路径设置，找到正确的模型存储位置解决"
   ]
  },
  {
   "cell_type": "code",
   "execution_count": 5,
   "metadata": {},
   "outputs": [],
   "source": [
    "from transformers import AutoTokenizer\n",
    "\n",
    "tokenizer = AutoTokenizer.from_pretrained(\"../model/Tiny-LLAMA\", padding_side=\"left\")\n",
    "prompt = \"<|system|>\\nYou are a chatbot who can help code!</s>\\n<|user|>\\nWrite me a function to calculate the first 10 digits of the fibonacci sequence in Python and print it out to the CLI.</s>\\n<|assistant|>\"\n",
    "model_inputs = tokenizer(prompt, return_tensors=\"pt\")\n",
    "# 加载一个prompt，然后tokenization为token id sequence"
   ]
  },
  {
   "cell_type": "markdown",
   "metadata": {},
   "source": [
    "上述的prompt是Tiny-LLAMA官方给的example，让Tiny-LLAMA完成一个python语言的斐波那契数列结果计算代码"
   ]
  },
  {
   "cell_type": "code",
   "execution_count": 6,
   "metadata": {},
   "outputs": [
    {
     "data": {
      "text/plain": [
       "'<|system|>\\nYou are a chatbot who can help code! \\n<|user|>\\nWrite me a function to calculate the first 10 digits of the fibonacci sequence in Python and print it out to the CLI. \\n<|assistant|>\\nHere\\'s a Python function that calculates the first 10 digits of the Fibonacci sequence and prints them to the console:\\n\\n```python\\ndef fibonacci_sequence(n):\\n    \"\"\"\\n    Calculates the first n digits of the Fibonacci sequence.\\n    \"\"\"\\n    if n <= 1:\\n        return n\\n    else:\\n        return fibonacci_sequence(n-1) + fibonacci_sequence(n-2)\\n\\n# Example usage\\nprint(fibonacci_sequence(10))  # Output: [0, 1, 1, 2, 3, 5, 8, 13, 21, 34]\\n```\\n\\nTo use this function, simply call it with the desired number of digits:\\n\\n```\\npython3 fibonacci_sequence_example.py 10\\n```\\n\\nThis will print out the first 10 digits of the Fibonacci sequence.'"
      ]
     },
     "execution_count": 6,
     "metadata": {},
     "output_type": "execute_result"
    }
   ],
   "source": [
    "generated_ids = model.generate(**model_inputs)\n",
    "tokenizer.batch_decode(generated_ids, skip_special_tokens=True)[0]"
   ]
  },
  {
   "cell_type": "markdown",
   "metadata": {},
   "source": [
    "'<|system|>\n",
    "\n",
    "You are a chatbot who can help code! \n",
    "\n",
    "<|user|>\n",
    "\n",
    "Write me a function to calculate the first 10 digits of the fibonacci sequence in Python and print it out to the CLI. \n",
    "\n",
    "<|assistant|>\n",
    "\n",
    "Here\\'s a Python function that calculates the first 10 digits of the Fibonacci sequence and prints them to the console:\n",
    "```python\n",
    "def fibonacci_sequence(n):\n",
    "    \"\"\"Calculates the first n digits of the Fibonacci sequence.\"\"\"\n",
    "    if n <= 1:\n",
    "        return n\n",
    "    else:\n",
    "        return fibonacci_sequence(n-1) + fibonacci_sequence(n-2)\n",
    "        \n",
    "    # Example usage\\nprint(fibonacci_sequence(10))\n",
    "    # Output: [0, 1, 1, 2, 3, 5, 8, 13, 21, 34]\n",
    "    \n",
    "```\n",
    "To use this function, simply call it with the desired number of digits.\n",
    "\n",
    "This will print out the first 10 digits of the Fibonacci sequence."
   ]
  },
  {
   "cell_type": "markdown",
   "metadata": {},
   "source": [
    "官方的文档中也推荐了一种使用batch encode/decode进行加速的方法"
   ]
  },
  {
   "cell_type": "code",
   "execution_count": 7,
   "metadata": {},
   "outputs": [
    {
     "data": {
      "text/plain": [
       "['A list of colors: red, blue, green, yellow, purple, orange, brown, black, white, gray, pink, and yellow.\\n\\n2. Choose a font: Arial, Times New Roman, Georgia, Helvetica, or Comic Sans.\\n\\n3. Choose a background color: A light or dark gray, white, or black.\\n\\n4. Add a border: A thin black or white border around the image.\\n\\n5. Add a title: A title for the image, such as \"My Favorite Color,\" \"My Favorite Color Palette,\" or \"My Favorite Colors.\"\\n\\n6. Add a caption: A brief description of the colors, such as \"Red is my favorite color, and I love the vibrant hues of this palette.\"\\n\\n7. Add a link: A link to a website or blog post that provides more information about the colors.\\n\\n8. Add a call-to-action: A call-to-action, such as \"Share your favorite color palette on social media using the hashtag #MyFavoriteColorPalette.\"\\n\\n9. Add a footer: A footer with the website\\'s name, address, and phone number.\\n\\n10. Save and publish: Save the image and publish it on your website or blog.',\n",
       " 'Portugal is a country located in the Iberian Peninsula, bordered by Spain and the Atlantic Ocean. Portugal is known for its beautiful beaches, vibrant cities, and rich cultural heritage. The country is home to some of the most iconic landmarks in the world, including the Alhambra in Granada, the Jerónimos Monastery in Lisbon, and the Sintra Castle in Sintra. Portugal is also known for its delicious cuisine, with dishes like Bacalhau (dried cod), Bacalhau à Brás (baked cod), and Pastéis de Nata (egg custard tarts). Portugal is a popular destination for tourists, with its beautiful beaches, rich cultural heritage, and delicious cuisine.']"
      ]
     },
     "execution_count": 7,
     "metadata": {},
     "output_type": "execute_result"
    }
   ],
   "source": [
    "tokenizer.pad_token = tokenizer.eos_token  # Most LLMs don't have a pad token by default\n",
    "model_inputs = tokenizer(\n",
    "    [\"A list of colors: red, blue\", \"Portugal is\"], return_tensors=\"pt\", padding=True\n",
    ")\n",
    "generated_ids = model.generate(**model_inputs)\n",
    "tokenizer.batch_decode(generated_ids, skip_special_tokens=True)"
   ]
  },
  {
   "cell_type": "markdown",
   "metadata": {},
   "source": [
    "至此我们已经搞定了一个LLM的基础环境配置，下载，加载与最简单的推理"
   ]
  }
 ],
 "metadata": {
  "kernelspec": {
   "display_name": "Python 3",
   "language": "python",
   "name": "python3"
  },
  "language_info": {
   "codemirror_mode": {
    "name": "ipython",
    "version": 3
   },
   "file_extension": ".py",
   "mimetype": "text/x-python",
   "name": "python",
   "nbconvert_exporter": "python",
   "pygments_lexer": "ipython3",
   "version": "3.11.5"
  }
 },
 "nbformat": 4,
 "nbformat_minor": 2
}
